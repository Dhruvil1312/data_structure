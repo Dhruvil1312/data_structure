{
 "cells": [
  {
   "cell_type": "markdown",
   "metadata": {},
   "source": [
    "1.What are data structures, and why are they important?\n",
    "\n",
    "Data Structures: These are specialized formats for organizing and storing data in a computer's memory. They provide efficient ways to access, modify, and manipulate data.\n",
    "Importance:\n",
    "Efficiency: Data structures optimize how data is arranged, leading to faster data access and manipulation operations.\n",
    "Organization: They provide a structured way to represent and manage complex relationships within data.\n",
    "Problem Solving: Many algorithms rely on specific data structures for their efficient implementation.\n",
    "\n",
    "2.Explain the difference between mutable and immutable data types with examples.\n",
    "Mutable:\n",
    "Can be changed after they are created.\n",
    "Examples:\n",
    "Lists: my_list = [1, 2, 3]; my_list.append(4)\n",
    "Dictionaries: my_dict = {'name': 'Alice'}; my_dict['age'] = 30\n",
    "Immutable:\n",
    "Cannot be changed once created. A new object must be created if modifications are needed.\n",
    "Examples:\n",
    "Tuples: my_tuple = (1, 2, 3); my_tuple[0] = 4 (This will raise an error)\n",
    "Strings: my_string = \"hello\"; my_string[0] = 'H' (This will raise an error)\n",
    "\n",
    "3.What are the main differences between lists and tuples in Python?\n",
    "Mutability: Lists are mutable, while tuples are immutable.\n",
    "Syntax: Lists use square brackets [], while tuples use parentheses ().\n",
    "Use Cases:\n",
    "Lists: Used when you need to modify the data frequently.\n",
    "Tuples: Used when you want to ensure data integrity and prevent accidental modifications.\n",
    "\n",
    "4. Describe how dictionaries store data.\n",
    "Dictionaries store data in key-value pairs.\n",
    "Each key is unique and associated with a corresponding value.\n",
    "You can efficiently access the value by providing the key.\n",
    "\n",
    "5. Why might you use a set instead of a list in Python?\n",
    "Uniqueness: Sets automatically remove duplicate values, ensuring that each element is unique.\n",
    "Membership Checks: Checking if an element exists in a set is very fast (O(1) time complexity).\n",
    "\n",
    "6. What is a string in Python, and how is it different from a list?\n",
    "String: An ordered sequence of characters (letters, numbers, symbols).\n",
    "Differences:\n",
    "Strings are immutable.\n",
    "Strings have built-in methods for string manipulation (e.g., upper(), lower(), split()).\n",
    "Lists can contain elements of any data type, while strings only contain characters.\n",
    "\n",
    "7. How do tuples ensure data integrity in Python?\n",
    "Tuples are immutable, meaning their contents cannot be changed after creation. This prevents accidental modifications to the data, ensuring its integrity.\n",
    "\n",
    "8. What is a hash table, and how does it relate to dictionaries in Python?\n",
    "Hash Table: A data structure that uses a hash function to map keys to indices in an array.\n",
    "Dictionaries: In Python, dictionaries are implemented using hash tables. The hash function calculates the index of the key-value pair in the underlying array, allowing for very fast lookups.\n",
    "\n",
    "9. Can lists contain different data types in Python?\n",
    "Yes, lists in Python can contain elements of different data types (e.g., integers, floats, strings, other lists).\n",
    "\n",
    "10. Explain why strings are immutable in Python.\n",
    "Strings are immutable for efficiency and memory management.\n",
    "If strings were mutable, every modification would require creating a new copy of the entire string, which would be computationally expensive.\n",
    "\n",
    "11. What advantages do dictionaries offer over lists for certain tasks?\n",
    "Fast Lookups: Retrieving a value by its key is very fast (O(1) time complexity) in dictionaries.\n",
    "Key-Based Access: You can directly access data using its key, which is often more convenient than searching through a list.\n",
    "\n",
    "12. Describe a scenario where using a tuple would be preferable over a list.\n",
    "Storing configuration settings: Tuples can ensure that these settings remain unchanged throughout the program's execution.\n",
    "\n",
    "13. How do sets handle duplicate values in Python?\n",
    "Sets automatically remove duplicate values, ensuring that each element in a set is unique.\n",
    "\n",
    "14. How does the “in” keyword work differently for lists and dictionaries?\n",
    "Lists: The in keyword checks if an element exists within the list.\n",
    "Dictionaries: The in keyword checks if a key exists in the dictionary.\n",
    "\n",
    "15. Can you modify the elements of a tuple? Explain why or why not.\n",
    "No, you cannot modify the elements of a tuple because they are immutable.\n",
    "\n",
    "16. What is a nested dictionary, and give an example of its use case.\n",
    "Nested Dictionary: A dictionary where the values themselves are dictionaries.\n",
    "Use Case: Representing hierarchical data, such as:\n",
    "User profiles with nested information (e.g., {'user1': {'name': 'Alice', 'address': {'street': 'Main St', 'city': 'New York'}}})\n",
    "Product catalogs with categories and subcategories.\n",
    "\n",
    "17. Describe the time complexity of accessing elements in a dictionary.\n",
    "The time complexity of accessing an element in a dictionary is typically O(1), meaning it takes constant time regardless of the size of the dictionary.\n",
    "\n",
    "18. In what situations are lists preferred over dictionaries?\n",
    "When you need to maintain the order of elements.\n",
    "When you need to efficiently insert or delete elements at specific positions.\n",
    "When you need to store a collection of values without any key-value association.\n",
    "\n",
    "19. Why are dictionaries considered unordered, and how does that affect data retrieval?\n",
    "Dictionaries do not guarantee any specific order for their key-value pairs.\n",
    "You cannot rely on the order of elements when iterating over a dictionary.\n",
    "Data retrieval is primarily based on the key, not the order of insertion.\n",
    "\n",
    "20. Explain the difference between a list and a dictionary in terms of data retrieval.\n",
    "Lists: Data is retrieved by its index (position) within the list.\n",
    "Dictionaries: Data is retrieved by its key."
   ]
  },
  {
   "cell_type": "code",
   "execution_count": 5,
   "metadata": {},
   "outputs": [
    {
     "name": "stdout",
     "output_type": "stream",
     "text": [
      "dhruvil mehta\n"
     ]
    }
   ],
   "source": [
    "#Create a string with your name and print it:\n",
    "my_name = \"dhruvil mehta\"  \n",
    "print(my_name)"
   ]
  },
  {
   "cell_type": "code",
   "execution_count": 6,
   "metadata": {},
   "outputs": [
    {
     "name": "stdout",
     "output_type": "stream",
     "text": [
      "11\n"
     ]
    }
   ],
   "source": [
    "#Find the length of the string \"Hello World\":\n",
    "my_string = \"Hello World\"\n",
    "length = len(my_string)\n",
    "print(length)  "
   ]
  },
  {
   "cell_type": "code",
   "execution_count": 7,
   "metadata": {},
   "outputs": [
    {
     "name": "stdout",
     "output_type": "stream",
     "text": [
      "Pyt\n"
     ]
    }
   ],
   "source": [
    "#Slice the first 3 characters from the string \"Python Programming\":\n",
    "\n",
    "\n",
    "\n",
    "my_string = \"Python Programming\"\n",
    "first_three = my_string[:3] \n",
    "print(first_three)  "
   ]
  },
  {
   "cell_type": "code",
   "execution_count": 8,
   "metadata": {},
   "outputs": [
    {
     "name": "stdout",
     "output_type": "stream",
     "text": [
      "HELLO\n"
     ]
    }
   ],
   "source": [
    "#Convert the string \"hello\" to uppercase\n",
    "\n",
    "my_string = \"hello\"\n",
    "uppercase_string = my_string.upper()\n",
    "print(uppercase_string)  "
   ]
  },
  {
   "cell_type": "code",
   "execution_count": 9,
   "metadata": {},
   "outputs": [
    {
     "name": "stdout",
     "output_type": "stream",
     "text": [
      "I like orange\n"
     ]
    }
   ],
   "source": [
    "#Replace the word \"apple\" with \"orange\" in the string \"I like apple\":\n",
    "\n",
    "my_string = \"I like apple\"\n",
    "new_string = my_string.replace(\"apple\", \"orange\")\n",
    "print(new_string)  # Output: \"I like orange\""
   ]
  },
  {
   "cell_type": "code",
   "execution_count": 10,
   "metadata": {},
   "outputs": [
    {
     "name": "stdout",
     "output_type": "stream",
     "text": [
      "[1, 2, 3, 4, 5]\n"
     ]
    }
   ],
   "source": [
    "#Create a list with numbers 1 to 5 and print it:\n",
    "\n",
    "my_list = [1, 2, 3, 4, 5]\n",
    "print(my_list)"
   ]
  },
  {
   "cell_type": "code",
   "execution_count": 11,
   "metadata": {},
   "outputs": [
    {
     "name": "stdout",
     "output_type": "stream",
     "text": [
      "[1, 2, 3, 4, 10]\n"
     ]
    }
   ],
   "source": [
    "#Append the number 10 to the list [1, 2, 3, 4]:\n",
    "\n",
    "my_list = [1, 2, 3, 4]\n",
    "my_list.append(10)\n",
    "print(my_list)  \n"
   ]
  },
  {
   "cell_type": "code",
   "execution_count": 12,
   "metadata": {},
   "outputs": [
    {
     "name": "stdout",
     "output_type": "stream",
     "text": [
      "[1, 2, 4, 5]\n"
     ]
    }
   ],
   "source": [
    "#Remove the number 3 from the list [1, 2, 3, 4, 5]:\n",
    "my_list = [1, 2, 3, 4, 5]\n",
    "my_list.remove(3)\n",
    "print(my_list)  "
   ]
  },
  {
   "cell_type": "code",
   "execution_count": 13,
   "metadata": {},
   "outputs": [
    {
     "name": "stdout",
     "output_type": "stream",
     "text": [
      "b\n"
     ]
    }
   ],
   "source": [
    "#Access the second element in the list ['a', 'b', 'c', 'd']:\n",
    "\n",
    "my_list = ['a', 'b', 'c', 'd']\n",
    "second_element = my_list[1]  \n",
    "print(second_element)  "
   ]
  },
  {
   "cell_type": "code",
   "execution_count": 14,
   "metadata": {},
   "outputs": [
    {
     "name": "stdout",
     "output_type": "stream",
     "text": [
      "[50, 40, 30, 20, 10]\n"
     ]
    }
   ],
   "source": [
    "#Reverse the list [10, 20, 30, 40, 50]:\n",
    "\n",
    "my_list = [10, 20, 30, 40, 50]\n",
    "reversed_list = my_list[::-1]  \n",
    "print(reversed_list)  "
   ]
  },
  {
   "cell_type": "code",
   "execution_count": null,
   "metadata": {},
   "outputs": [],
   "source": [
    "#Create a tuple with the elements 10, 20, 30 and print it:\n",
    "\n",
    "my_tuple = (10, 20, 30)\n",
    "print(my_tuple)"
   ]
  },
  {
   "cell_type": "code",
   "execution_count": 15,
   "metadata": {},
   "outputs": [
    {
     "name": "stdout",
     "output_type": "stream",
     "text": [
      "apple\n"
     ]
    }
   ],
   "source": [
    "#Access the first element of the tuple ('apple', 'banana', 'cherry'):\n",
    "\n",
    "\n",
    "my_tuple = ('apple', 'banana', 'cherry')\n",
    "first_element = my_tuple[0]\n",
    "print(first_element)  "
   ]
  },
  {
   "cell_type": "code",
   "execution_count": null,
   "metadata": {},
   "outputs": [],
   "source": [
    "#Count how many times the number 2 appears in the tuple (1, 2, 3, 2, 4, 2):\n",
    "\n",
    "my_tuple = (1, 2, 3, 2, 4, 2)\n",
    "count = my_tuple.count(2)\n",
    "print(count)  "
   ]
  },
  {
   "cell_type": "code",
   "execution_count": null,
   "metadata": {},
   "outputs": [],
   "source": [
    "#Find the index of the element \"cat\" in the tuple ('dog', 'cat', 'rabbit'):\n",
    "\n",
    "\n",
    "my_tuple = ('dog', 'cat', 'rabbit')\n",
    "index = my_tuple.index('cat')\n",
    "print(index)  "
   ]
  },
  {
   "cell_type": "code",
   "execution_count": null,
   "metadata": {},
   "outputs": [],
   "source": [
    "#Check if the element \"banana\" is in the tuple ('apple', 'orange', 'banana'):\n",
    "\n",
    "\n",
    "my_tuple = ('apple', 'orange', 'banana')\n",
    "is_present = 'banana' in my_tuple\n",
    "print(is_present)  "
   ]
  },
  {
   "cell_type": "code",
   "execution_count": null,
   "metadata": {},
   "outputs": [],
   "source": [
    "#Create a set with the elements 1, 2, 3, 4, 5 and print it:\n",
    "\n",
    "my_set = {1, 2, 3, 4, 5}\n",
    "print(my_set)"
   ]
  },
  {
   "cell_type": "code",
   "execution_count": 16,
   "metadata": {},
   "outputs": [
    {
     "name": "stdout",
     "output_type": "stream",
     "text": [
      "{1, 2, 3, 4, 6}\n"
     ]
    }
   ],
   "source": [
    "#Add the element 6 to the set {1, 2, 3, 4}:\n",
    "\n",
    "my_set = {1, 2, 3, 4}\n",
    "my_set.add(6)\n",
    "print(my_set) "
   ]
  },
  {
   "cell_type": "code",
   "execution_count": 17,
   "metadata": {},
   "outputs": [
    {
     "name": "stdout",
     "output_type": "stream",
     "text": [
      "(10, 20, 30)\n"
     ]
    }
   ],
   "source": [
    "#Create a tuple with the elements 10, 20, 30 and print it:\n",
    "\n",
    "my_tuple = (10, 20, 30)\n",
    "print(my_tuple) "
   ]
  },
  {
   "cell_type": "code",
   "execution_count": 18,
   "metadata": {},
   "outputs": [
    {
     "name": "stdout",
     "output_type": "stream",
     "text": [
      "apple\n"
     ]
    }
   ],
   "source": [
    "#Access the first element of the tuple ('apple', 'banana', 'cherry'):\n",
    "\n",
    "\n",
    "my_tuple = ('apple', 'banana', 'cherry')\n",
    "first_element = my_tuple[0]\n",
    "print(first_element)"
   ]
  },
  {
   "cell_type": "code",
   "execution_count": 19,
   "metadata": {},
   "outputs": [
    {
     "name": "stdout",
     "output_type": "stream",
     "text": [
      "3\n"
     ]
    }
   ],
   "source": [
    "#Count how many times the number 2 appears in the tuple (1, 2, 3, 2, 4, 2):\n",
    "\n",
    "\n",
    "my_tuple = (1, 2, 3, 2, 4, 2)\n",
    "count = my_tuple.count(2)\n",
    "print(count)  "
   ]
  },
  {
   "cell_type": "code",
   "execution_count": 20,
   "metadata": {},
   "outputs": [
    {
     "name": "stdout",
     "output_type": "stream",
     "text": [
      "1\n"
     ]
    }
   ],
   "source": [
    "#Find the index of the element \"cat\" in the tuple ('dog', 'cat', 'rabbit'):\n",
    "\n",
    "my_tuple = ('dog', 'cat', 'rabbit')\n",
    "index = my_tuple.index('cat')\n",
    "print(index) "
   ]
  },
  {
   "cell_type": "code",
   "execution_count": 21,
   "metadata": {},
   "outputs": [
    {
     "name": "stdout",
     "output_type": "stream",
     "text": [
      "True\n"
     ]
    }
   ],
   "source": [
    "#Check if the element \"banana\" is in the tuple ('apple', 'orange', 'banana'):\n",
    "\n",
    "\n",
    "my_tuple = ('apple', 'orange', 'banana')\n",
    "is_present = 'banana' in my_tuple\n",
    "print(is_present)"
   ]
  },
  {
   "cell_type": "code",
   "execution_count": 22,
   "metadata": {},
   "outputs": [
    {
     "name": "stdout",
     "output_type": "stream",
     "text": [
      "{1, 2, 3, 4, 5}\n"
     ]
    }
   ],
   "source": [
    "#Create a set with the elements 1, 2, 3, 4, 5 and print it:\n",
    "\n",
    "\n",
    "my_set = {1, 2, 3, 4, 5}\n",
    "print(my_set)"
   ]
  },
  {
   "cell_type": "code",
   "execution_count": 23,
   "metadata": {},
   "outputs": [
    {
     "name": "stdout",
     "output_type": "stream",
     "text": [
      "{1, 2, 3, 4, 6}\n"
     ]
    }
   ],
   "source": [
    "#Add the element 6 to the set {1, 2, 3, 4}:\n",
    "\n",
    "my_set = {1, 2, 3, 4}\n",
    "my_set.add(6)\n",
    "print(my_set)"
   ]
  },
  {
   "cell_type": "code",
   "execution_count": null,
   "metadata": {},
   "outputs": [],
   "source": []
  },
  {
   "cell_type": "code",
   "execution_count": null,
   "metadata": {},
   "outputs": [],
   "source": []
  }
 ],
 "metadata": {
  "kernelspec": {
   "display_name": "Python 3",
   "language": "python",
   "name": "python3"
  },
  "language_info": {
   "codemirror_mode": {
    "name": "ipython",
    "version": 3
   },
   "file_extension": ".py",
   "mimetype": "text/x-python",
   "name": "python",
   "nbconvert_exporter": "python",
   "pygments_lexer": "ipython3",
   "version": "3.12.4"
  }
 },
 "nbformat": 4,
 "nbformat_minor": 2
}
